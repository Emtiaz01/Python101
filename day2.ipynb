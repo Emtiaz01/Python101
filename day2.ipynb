{
 "cells": [
  {
   "cell_type": "markdown",
   "id": "17e96686",
   "metadata": {},
   "source": [
    "## Session 2 #"
   ]
  },
  {
   "cell_type": "markdown",
   "id": "5572c6d6",
   "metadata": {},
   "source": [
    "# Basic Function Structure\n",
    "\n",
    "#### def function_name(parameter)\n",
    "    # Function body\n",
    "    # Code to be executed\n",
    "    return result # optional"
   ]
  },
  {
   "cell_type": "code",
   "execution_count": null,
   "id": "ebc1b3fa",
   "metadata": {},
   "outputs": [
    {
     "name": "stdout",
     "output_type": "stream",
     "text": [
      "Hello Emtiaz\n"
     ]
    }
   ],
   "source": [
    "def name_function():\n",
    "    \"\"\"This function takes name as input and prints it\n",
    "\n",
    "    Returns:\n",
    "        None: There is no return type\n",
    "    \"\"\"\n",
    "    name = input(\"Entre your name: \")\n",
    "    \n",
    "    print(\"Hello\" +' '+name)\n",
    "    return None\n",
    "    \n",
    "name_function()\n",
    "\n"
   ]
  },
  {
   "cell_type": "code",
   "execution_count": 8,
   "id": "dca20ae2",
   "metadata": {},
   "outputs": [
    {
     "name": "stdout",
     "output_type": "stream",
     "text": [
      "100 90 80 70 60 50 40 30 20 10 "
     ]
    }
   ],
   "source": [
    "for i in range(100,0,-5):\n",
    "    if(i % 2 == 0):\n",
    "       print(i, end = \" \")"
   ]
  },
  {
   "cell_type": "code",
   "execution_count": 17,
   "id": "257b0199",
   "metadata": {},
   "outputs": [
    {
     "ename": "TypeError",
     "evalue": "'str' object is not callable",
     "output_type": "error",
     "traceback": [
      "\u001b[31m---------------------------------------------------------------------------\u001b[39m",
      "\u001b[31mTypeError\u001b[39m                                 Traceback (most recent call last)",
      "\u001b[36mCell\u001b[39m\u001b[36m \u001b[39m\u001b[32mIn[17]\u001b[39m\u001b[32m, line 1\u001b[39m\n\u001b[32m----> \u001b[39m\u001b[32m1\u001b[39m name = \u001b[38;5;28;43minput\u001b[39;49m\u001b[43m(\u001b[49m\u001b[33;43m\"\u001b[39;49m\u001b[33;43mEnter your name: \u001b[39;49m\u001b[33;43m\"\u001b[39;49m\u001b[43m)\u001b[49m\n\u001b[32m      3\u001b[39m vowels = \u001b[32m0\u001b[39m\n\u001b[32m      4\u001b[39m consonants = \u001b[32m0\u001b[39m\n",
      "\u001b[31mTypeError\u001b[39m: 'str' object is not callable"
     ]
    }
   ],
   "source": [
    "name = input(\"Enter your name: \")\n",
    "\n",
    "vowels = 0\n",
    "consonants = 0\n",
    "\n",
    "for letter in name.lower():\n",
    "    if letter in \"aeiou\":\n",
    "        vowels += 1\n",
    "    elif letter.isalpha():\n",
    "        consonants += 1\n",
    "\n",
    "print(\"Vowels:\", vowels)\n",
    "print(\"Consonants:\", consonants)\n"
   ]
  },
  {
   "cell_type": "code",
   "execution_count": null,
   "id": "9e2edfd6",
   "metadata": {},
   "outputs": [],
   "source": []
  }
 ],
 "metadata": {
  "kernelspec": {
   "display_name": ".venv",
   "language": "python",
   "name": "python3"
  },
  "language_info": {
   "codemirror_mode": {
    "name": "ipython",
    "version": 3
   },
   "file_extension": ".py",
   "mimetype": "text/x-python",
   "name": "python",
   "nbconvert_exporter": "python",
   "pygments_lexer": "ipython3",
   "version": "3.12.9"
  }
 },
 "nbformat": 4,
 "nbformat_minor": 5
}
