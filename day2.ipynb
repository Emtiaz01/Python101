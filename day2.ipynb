{
 "cells": [
  {
   "cell_type": "markdown",
   "id": "17e96686",
   "metadata": {},
   "source": [
    "## Session 2 #"
   ]
  },
  {
   "cell_type": "markdown",
   "id": "5572c6d6",
   "metadata": {},
   "source": [
    "# Basic Function Structure\n",
    "\n",
    "#### def function_name(parameter)\n",
    "    # Function body\n",
    "    # Code to be executed\n",
    "    return result # optional"
   ]
  },
  {
   "cell_type": "code",
   "execution_count": null,
   "id": "ebc1b3fa",
   "metadata": {},
   "outputs": [
    {
     "name": "stdout",
     "output_type": "stream",
     "text": [
      "Hello Emtiaz\n"
     ]
    }
   ],
   "source": [
    "def name_function():\n",
    "    \"\"\"This function takes name as input and prints it\n",
    "\n",
    "    Returns:\n",
    "        None: There is no return type\n",
    "    \"\"\"\n",
    "    name = input(\"Entre your name: \")\n",
    "    \n",
    "    print(\"Hello\" +' '+name)\n",
    "    return None\n",
    "    \n",
    "name_function()\n",
    "\n"
   ]
  }
 ],
 "metadata": {
  "kernelspec": {
   "display_name": ".venv",
   "language": "python",
   "name": "python3"
  },
  "language_info": {
   "codemirror_mode": {
    "name": "ipython",
    "version": 3
   },
   "file_extension": ".py",
   "mimetype": "text/x-python",
   "name": "python",
   "nbconvert_exporter": "python",
   "pygments_lexer": "ipython3",
   "version": "3.12.9"
  }
 },
 "nbformat": 4,
 "nbformat_minor": 5
}
